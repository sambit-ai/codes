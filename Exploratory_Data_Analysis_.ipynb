{
  "nbformat": 4,
  "nbformat_minor": 0,
  "metadata": {
    "colab": {
      "name": "Exploratory Data Analysis..ipynb",
      "provenance": [],
      "include_colab_link": true
    },
    "kernelspec": {
      "display_name": "Python 3",
      "language": "python",
      "name": "python3"
    }
  },
  "cells": [
    {
      "cell_type": "markdown",
      "metadata": {
        "id": "view-in-github",
        "colab_type": "text"
      },
      "source": [
        "<a href=\"https://colab.research.google.com/github/sambit-ai/codes/blob/main/Exploratory_Data_Analysis_.ipynb\" target=\"_parent\"><img src=\"https://colab.research.google.com/assets/colab-badge.svg\" alt=\"Open In Colab\"/></a>"
      ]
    },
    {
      "cell_type": "markdown",
      "metadata": {
        "id": "mQFbageR7eSe"
      },
      "source": [
        "# 3. Plotting for Exploratory data analysis (EDA)"
      ]
    },
    {
      "cell_type": "markdown",
      "metadata": {
        "id": "KRHB4cUi7eSg"
      },
      "source": [
        "# (3.1) Basic Terminology"
      ]
    },
    {
      "cell_type": "markdown",
      "metadata": {
        "id": "EahE8lDl7eSj"
      },
      "source": [
        "* What is EDA?\n",
        "* Data-point/vector/Observation\n",
        "* Data-set.\n",
        "* Feature/Variable/Input-variable/Dependent-varibale\n",
        "* Label/Indepdendent-variable/Output-varible/Class/Class-label/Response label\n",
        "* Vector: 2-D, 3-D, 4-D,.... n-D\n",
        "\n",
        "Q. What is a 1-D vector: Scalar\n",
        "\n"
      ]
    },
    {
      "cell_type": "markdown",
      "metadata": {
        "id": "IYm45v1y7eSj"
      },
      "source": [
        "## Iris Flower dataset"
      ]
    },
    {
      "cell_type": "markdown",
      "metadata": {
        "id": "iW8l_61b7eSk"
      },
      "source": [
        "from google.colab import drive\n",
        "drive.mount('/content/drive')\n",
        "Toy  Dataset: Iris Dataset: [https://en.wikipedia.org/wiki/Iris_flower_data_set]\n",
        "* A simple dataset to learn the basics.\n",
        "* 3 flowers of Iris species. [see images on wikipedia link above]\n",
        "* 1936 by Ronald Fisher.\n",
        "* Petal and Sepal: http://terpconnect.umd.edu/~petersd/666/html/iris_with_labels.jpg\n",
        "*  Objective: Classify a new flower as belonging to one of the 3 classes given the 4 features.\n",
        "* Importance of domain knowledge.\n",
        "* Why use petal and sepal dimensions as features?\n",
        "* Why do we not use 'color' as a feature?\n",
        "\n"
      ]
    },
    {
      "cell_type": "code",
      "metadata": {
        "id": "UmAqvKw062re",
        "outputId": "8677a946-b9ad-4dea-e07c-ec1ae0c7bf67",
        "colab": {
          "base_uri": "https://localhost:8080/",
          "height": 249
        }
      },
      "source": [
        "import pandas as pd\n",
        "#from google.colab import drive\n",
        "#drive.mount('/content/drive')\n"
      ],
      "execution_count": 3,
      "outputs": [
        {
          "output_type": "stream",
          "text": [
            "Mounted at /content/drive\n"
          ],
          "name": "stdout"
        },
        {
          "output_type": "error",
          "ename": "NameError",
          "evalue": "ignored",
          "traceback": [
            "\u001b[0;31m---------------------------------------------------------------------------\u001b[0m",
            "\u001b[0;31mNameError\u001b[0m                                 Traceback (most recent call last)",
            "\u001b[0;32m<ipython-input-3-b6996f030eec>\u001b[0m in \u001b[0;36m<module>\u001b[0;34m()\u001b[0m\n\u001b[1;32m      3\u001b[0m \u001b[0mdrive\u001b[0m\u001b[0;34m.\u001b[0m\u001b[0mmount\u001b[0m\u001b[0;34m(\u001b[0m\u001b[0;34m'/content/drive'\u001b[0m\u001b[0;34m)\u001b[0m\u001b[0;34m\u001b[0m\u001b[0;34m\u001b[0m\u001b[0m\n\u001b[1;32m      4\u001b[0m \u001b[0;34m\u001b[0m\u001b[0m\n\u001b[0;32m----> 5\u001b[0;31m \u001b[0mdata\u001b[0m \u001b[0;34m=\u001b[0m \u001b[0mp\u001b[0m\u001b[0;34m.\u001b[0m\u001b[0mread_csv\u001b[0m\u001b[0;34m(\u001b[0m\u001b[0;34m\"'/content/drive/My Drive/AppliedAI/collab_dataset/iris.csv'\"\u001b[0m\u001b[0;34m)\u001b[0m\u001b[0;34m\u001b[0m\u001b[0;34m\u001b[0m\u001b[0m\n\u001b[0m\u001b[1;32m      6\u001b[0m \u001b[0mdata\u001b[0m\u001b[0;34m.\u001b[0m\u001b[0mhead\u001b[0m\u001b[0;34m(\u001b[0m\u001b[0;34m)\u001b[0m\u001b[0;34m\u001b[0m\u001b[0;34m\u001b[0m\u001b[0m\n\u001b[1;32m      7\u001b[0m \u001b[0;31m#with open('/content/drive/My Drive/AppliedAI/collab_dataset/iris.csv', 'w') as f:\u001b[0m\u001b[0;34m\u001b[0m\u001b[0;34m\u001b[0m\u001b[0;34m\u001b[0m\u001b[0m\n",
            "\u001b[0;31mNameError\u001b[0m: name 'p' is not defined"
          ]
        }
      ]
    },
    {
      "cell_type": "code",
      "metadata": {
        "id": "WTEd-Yzt7mmW",
        "outputId": "25de0934-101b-4f8a-d5c7-e7a6c00930d8",
        "colab": {
          "base_uri": "https://localhost:8080/",
          "height": 204
        }
      },
      "source": [
        "data = pd.read_csv('/content/drive/My Drive/AppliedAI/collab_dataset/iris.csv')\n",
        "data.head()"
      ],
      "execution_count": 5,
      "outputs": [
        {
          "output_type": "execute_result",
          "data": {
            "text/html": [
              "<div>\n",
              "<style scoped>\n",
              "    .dataframe tbody tr th:only-of-type {\n",
              "        vertical-align: middle;\n",
              "    }\n",
              "\n",
              "    .dataframe tbody tr th {\n",
              "        vertical-align: top;\n",
              "    }\n",
              "\n",
              "    .dataframe thead th {\n",
              "        text-align: right;\n",
              "    }\n",
              "</style>\n",
              "<table border=\"1\" class=\"dataframe\">\n",
              "  <thead>\n",
              "    <tr style=\"text-align: right;\">\n",
              "      <th></th>\n",
              "      <th>sepal_length</th>\n",
              "      <th>sepal_width</th>\n",
              "      <th>petal_length</th>\n",
              "      <th>petal_width</th>\n",
              "      <th>species</th>\n",
              "    </tr>\n",
              "  </thead>\n",
              "  <tbody>\n",
              "    <tr>\n",
              "      <th>0</th>\n",
              "      <td>5.1</td>\n",
              "      <td>3.5</td>\n",
              "      <td>1.4</td>\n",
              "      <td>0.2</td>\n",
              "      <td>setosa</td>\n",
              "    </tr>\n",
              "    <tr>\n",
              "      <th>1</th>\n",
              "      <td>4.9</td>\n",
              "      <td>3.0</td>\n",
              "      <td>1.4</td>\n",
              "      <td>0.2</td>\n",
              "      <td>setosa</td>\n",
              "    </tr>\n",
              "    <tr>\n",
              "      <th>2</th>\n",
              "      <td>4.7</td>\n",
              "      <td>3.2</td>\n",
              "      <td>1.3</td>\n",
              "      <td>0.2</td>\n",
              "      <td>setosa</td>\n",
              "    </tr>\n",
              "    <tr>\n",
              "      <th>3</th>\n",
              "      <td>4.6</td>\n",
              "      <td>3.1</td>\n",
              "      <td>1.5</td>\n",
              "      <td>0.2</td>\n",
              "      <td>setosa</td>\n",
              "    </tr>\n",
              "    <tr>\n",
              "      <th>4</th>\n",
              "      <td>5.0</td>\n",
              "      <td>3.6</td>\n",
              "      <td>1.4</td>\n",
              "      <td>0.2</td>\n",
              "      <td>setosa</td>\n",
              "    </tr>\n",
              "  </tbody>\n",
              "</table>\n",
              "</div>"
            ],
            "text/plain": [
              "   sepal_length  sepal_width  petal_length  petal_width species\n",
              "0           5.1          3.5           1.4          0.2  setosa\n",
              "1           4.9          3.0           1.4          0.2  setosa\n",
              "2           4.7          3.2           1.3          0.2  setosa\n",
              "3           4.6          3.1           1.5          0.2  setosa\n",
              "4           5.0          3.6           1.4          0.2  setosa"
            ]
          },
          "metadata": {
            "tags": []
          },
          "execution_count": 5
        }
      ]
    },
    {
      "cell_type": "code",
      "metadata": {
        "id": "p2oKsGVW7eSm"
      },
      "source": [
        "import pandas as pd\n",
        "import seaborn as sns\n",
        "import matplotlib.pyplot as plt\n",
        "import numpy as np\n",
        "\n",
        "\n",
        "'''downlaod iris.csv from https://raw.githubusercontent.com/uiuc-cse/data-fa14/gh-pages/data/iris.csv'''\n",
        "#Load Iris.csv into a pandas dataFrame.\n",
        "iris = pd.read_csv('/content/drive/My Drive/AppliedAI/collab_dataset/iris.csv')\n",
        "\n"
      ],
      "execution_count": 6,
      "outputs": []
    },
    {
      "cell_type": "code",
      "metadata": {
        "id": "qs8rT4Up7eSz",
        "outputId": "a5d878e1-0708-4694-98db-ff49f9f01df0",
        "colab": {
          "base_uri": "https://localhost:8080/",
          "height": 34
        }
      },
      "source": [
        "# (Q) how many data-points and features?\n",
        "print (iris.shape)"
      ],
      "execution_count": 7,
      "outputs": [
        {
          "output_type": "stream",
          "text": [
            "(150, 5)\n"
          ],
          "name": "stdout"
        }
      ]
    },
    {
      "cell_type": "code",
      "metadata": {
        "scrolled": true,
        "id": "3RT2Gdlq7eTC",
        "outputId": "7af8dd06-3d48-439c-d3a6-f1c61f9fffdc",
        "colab": {
          "base_uri": "https://localhost:8080/",
          "height": 68
        }
      },
      "source": [
        "#(Q) What are the column names in our dataset?\n",
        "print (iris.columns)"
      ],
      "execution_count": 8,
      "outputs": [
        {
          "output_type": "stream",
          "text": [
            "Index(['sepal_length', 'sepal_width', 'petal_length', 'petal_width',\n",
            "       'species'],\n",
            "      dtype='object')\n"
          ],
          "name": "stdout"
        }
      ]
    },
    {
      "cell_type": "code",
      "metadata": {
        "id": "4ARdqlVj7eTH",
        "outputId": "5167f8b4-e9a2-48e8-ed15-5a2b57357d4a",
        "colab": {
          "base_uri": "https://localhost:8080/",
          "height": 85
        }
      },
      "source": [
        "#(Q) How many data points for each class are present? \n",
        "#(or) How many flowers for each species are present?\n",
        "\n",
        "iris[\"species\"].value_counts()\n",
        "# balanced-dataset vs imbalanced datasets\n",
        "#Iris is a balanced dataset as the number of data points for every class is 50."
      ],
      "execution_count": 9,
      "outputs": [
        {
          "output_type": "execute_result",
          "data": {
            "text/plain": [
              "virginica     50\n",
              "setosa        50\n",
              "versicolor    50\n",
              "Name: species, dtype: int64"
            ]
          },
          "metadata": {
            "tags": []
          },
          "execution_count": 9
        }
      ]
    },
    {
      "cell_type": "markdown",
      "metadata": {
        "id": "uExhLJ1-7eTT"
      },
      "source": [
        "# (3.2) 2-D Scatter Plot"
      ]
    },
    {
      "cell_type": "code",
      "metadata": {
        "scrolled": false,
        "id": "m8fu7kKy7eTU"
      },
      "source": [
        "#2-D scatter plot:\n",
        "#ALWAYS understand the axis: labels and scale.\n",
        "\n",
        "iris.plot(kind='scatter', x='sepal_length', y='sepal_width') ;\n",
        "plt.show()\n",
        "\n",
        "#cannot make much sense out it. \n",
        "#What if we color the points by thier class-label/flower-type."
      ],
      "execution_count": null,
      "outputs": []
    },
    {
      "cell_type": "code",
      "metadata": {
        "scrolled": true,
        "id": "fCu1FPvO7eTc"
      },
      "source": [
        "# 2-D Scatter plot with color-coding for each flower type/class.\n",
        "# Here 'sns' corresponds to seaborn. \n",
        "sns.set_style(\"whitegrid\");\n",
        "sns.FacetGrid(iris, hue=\"species\", size=4) \\\n",
        "   .map(plt.scatter, \"sepal_length\", \"sepal_width\") \\\n",
        "   .add_legend();\n",
        "plt.show();\n",
        "\n",
        "# Notice that the blue points can be easily seperated \n",
        "# from red and green by drawing a line. \n",
        "# But red and green data points cannot be easily seperated.\n",
        "# Can we draw multiple 2-D scatter plots for each combination of features?\n",
        "# How many cobinations exist? 4C2 = 6."
      ],
      "execution_count": null,
      "outputs": []
    },
    {
      "cell_type": "markdown",
      "metadata": {
        "id": "2L5YF3Tj7eTl"
      },
      "source": [
        "**Observation(s):**\n",
        "1. Using sepal_length and sepal_width features, we can distinguish Setosa flowers from others.\n",
        "2. Seperating Versicolor from Viginica is much harder as they have considerable overlap."
      ]
    },
    {
      "cell_type": "markdown",
      "metadata": {
        "id": "TdiZ9lLL7eTn"
      },
      "source": [
        "## 3D Scatter plot\n",
        "\n",
        "https://plot.ly/pandas/3d-scatter-plots/\n",
        "\n",
        "Needs a lot to mouse interaction to interpret data.\n",
        "\n",
        "What about 4-D, 5-D or n-D scatter plot?"
      ]
    },
    {
      "cell_type": "markdown",
      "metadata": {
        "id": "ikdQY1fR7eTp"
      },
      "source": [
        "#  (3.3) Pair-plot"
      ]
    },
    {
      "cell_type": "code",
      "metadata": {
        "id": "TkuKNKA37eTs"
      },
      "source": [
        "# pairwise scatter plot: Pair-Plot\n",
        "# Dis-advantages: \n",
        "##Can be used when number of features are high.\n",
        "##Cannot visualize higher dimensional patterns in 3-D and 4-D. \n",
        "#Only possible to view 2D patterns.\n",
        "plt.close();\n",
        "sns.set_style(\"whitegrid\");\n",
        "sns.pairplot(iris, hue=\"species\", size=3);\n",
        "plt.show()\n",
        "# NOTE: the diagnol elements are PDFs for each feature. PDFs are expalined below."
      ],
      "execution_count": null,
      "outputs": []
    },
    {
      "cell_type": "markdown",
      "metadata": {
        "id": "aJAPMfBU7eT1"
      },
      "source": [
        "**Observations**\n",
        "1. petal_length and petal_width are the most useful features to identify various flower types.\n",
        "2. While Setosa can be easily identified (linearly seperable), Virnica and Versicolor have some overlap (almost linearly seperable).\n",
        "3. We can find \"lines\" and \"if-else\" conditions to build a simple model to classify the flower types."
      ]
    },
    {
      "cell_type": "markdown",
      "metadata": {
        "id": "LWsvwUkL7eT4"
      },
      "source": [
        "# (3.4) Histogram, PDF, CDF"
      ]
    },
    {
      "cell_type": "code",
      "metadata": {
        "scrolled": true,
        "id": "wUvH2M817eT6"
      },
      "source": [
        "# What about 1-D scatter plot using just one feature?\n",
        "#1-D scatter plot of petal-length\n",
        "import numpy as np\n",
        "iris_setosa = iris.loc[iris[\"species\"] == \"setosa\"];\n",
        "iris_virginica = iris.loc[iris[\"species\"] == \"virginica\"];\n",
        "iris_versicolor = iris.loc[iris[\"species\"] == \"versicolor\"];\n",
        "#print(iris_setosa[\"petal_length\"])\n",
        "plt.plot(iris_setosa[\"petal_length\"], np.zeros_like(iris_setosa['petal_length']), 'o')\n",
        "plt.plot(iris_versicolor[\"petal_length\"], np.zeros_like(iris_versicolor['petal_length']), 'o')\n",
        "plt.plot(iris_virginica[\"petal_length\"], np.zeros_like(iris_virginica['petal_length']), 'o')\n",
        "\n",
        "plt.show()\n",
        "#Disadvantages of 1-D scatter plot: Very hard to make sense as points \n",
        "#are overlapping a lot.\n",
        "#Are there better ways of visualizing 1-D scatter plots?"
      ],
      "execution_count": null,
      "outputs": []
    },
    {
      "cell_type": "code",
      "metadata": {
        "scrolled": false,
        "id": "gjZTt3WS7eUD"
      },
      "source": [
        "sns.FacetGrid(iris, hue=\"species\", size=5) \\\n",
        "   .map(sns.distplot, \"petal_length\") \\\n",
        "   .add_legend();\n",
        "plt.show();\n",
        "\n"
      ],
      "execution_count": null,
      "outputs": []
    },
    {
      "cell_type": "code",
      "metadata": {
        "id": "zHGF-B3h7eUK"
      },
      "source": [
        "sns.FacetGrid(iris, hue=\"species\", size=5) \\\n",
        "   .map(sns.distplot, \"petal_width\") \\\n",
        "   .add_legend();\n",
        "plt.show();"
      ],
      "execution_count": null,
      "outputs": []
    },
    {
      "cell_type": "code",
      "metadata": {
        "id": "eKMrbu917eUU"
      },
      "source": [
        "sns.FacetGrid(iris, hue=\"species\", size=5) \\\n",
        "   .map(sns.distplot, \"sepal_length\") \\\n",
        "   .add_legend();\n",
        "plt.show();"
      ],
      "execution_count": null,
      "outputs": []
    },
    {
      "cell_type": "code",
      "metadata": {
        "id": "RyusT9e47eUb"
      },
      "source": [
        "sns.FacetGrid(iris, hue=\"species\", size=5) \\\n",
        "   .map(sns.distplot, \"sepal_width\") \\\n",
        "   .add_legend();\n",
        "plt.show();"
      ],
      "execution_count": null,
      "outputs": []
    },
    {
      "cell_type": "code",
      "metadata": {
        "id": "sUTbOpd67eUg"
      },
      "source": [
        "# Histograms and Probability Density Functions (PDF) using KDE\n",
        "# How to compute PDFs using counts/frequencies of data points in each window.\n",
        "# How window width effects the PDF plot.\n",
        "\n",
        "\n",
        "# Interpreting a PDF:\n",
        "## why is it called a density plot?\n",
        "## Why is it called a probability plot?\n",
        "## for each value of petal_length, what does the value on y-axis mean?\n",
        "# Notice that we can write a simple if..else condition as if(petal_length) < 2.5 then flower type is setosa.\n",
        "# Using just one feature, we can build a simple \"model\" suing if..else... statements.\n",
        "\n",
        "# Disadv of PDF: Can we say what percentage of versicolor points have a petal_length of less than 5?\n",
        "\n",
        "# Do some of these plots look like a bell-curve you studied in under-grad?\n",
        "# Gaussian/Normal distribution.\n",
        "# What is \"normal\" about normal distribution?\n",
        "# e.g: Hieghts of male students in a class.\n",
        "# One of the most frequent distributions in nature.\n"
      ],
      "execution_count": null,
      "outputs": []
    },
    {
      "cell_type": "code",
      "metadata": {
        "scrolled": true,
        "id": "5w3mEOUR7eUk"
      },
      "source": [
        "\n",
        "# Need for Cumulative Distribution Function (CDF)\n",
        "# We can visually see what percentage of versicolor flowers have a \n",
        "# petal_length of less than 5?\n",
        "# How to construct a CDF?\n",
        "# How to read a CDF?\n",
        "\n",
        "#Plot CDF of petal_length\n",
        "\n",
        "counts, bin_edges = np.histogram(iris_setosa['petal_length'], bins=10, \n",
        "                                 density = True)\n",
        "pdf = counts/(sum(counts))\n",
        "print(pdf);\n",
        "print(bin_edges);\n",
        "cdf = np.cumsum(pdf)\n",
        "plt.plot(bin_edges[1:],pdf);\n",
        "plt.plot(bin_edges[1:], cdf)\n",
        "\n",
        "\n",
        "counts, bin_edges = np.histogram(iris_setosa['petal_length'], bins=20, \n",
        "                                 density = True)\n",
        "pdf = counts/(sum(counts))\n",
        "plt.plot(bin_edges[1:],pdf);\n",
        "\n",
        "plt.show();\n"
      ],
      "execution_count": null,
      "outputs": []
    },
    {
      "cell_type": "code",
      "metadata": {
        "id": "KDX4yFj17eUq"
      },
      "source": [
        "# Need for Cumulative Distribution Function (CDF)\n",
        "# We can visually see what percentage of versicolor flowers have a \n",
        "# petal_length of less than 1.6?\n",
        "# How to construct a CDF?\n",
        "# How to read a CDF?\n",
        "\n",
        "#Plot CDF of petal_length\n",
        "\n",
        "counts, bin_edges = np.histogram(iris_setosa['petal_length'], bins=10, \n",
        "                                 density = True)\n",
        "pdf = counts/(sum(counts))\n",
        "print(pdf);\n",
        "print(bin_edges)\n",
        "\n",
        "#compute CDF\n",
        "cdf = np.cumsum(pdf)\n",
        "plt.plot(bin_edges[1:],pdf)\n",
        "plt.plot(bin_edges[1:], cdf)\n",
        "\n",
        "\n",
        "\n",
        "plt.show();"
      ],
      "execution_count": null,
      "outputs": []
    },
    {
      "cell_type": "code",
      "metadata": {
        "id": "TjHpJqSz7eUw"
      },
      "source": [
        "# Plots of CDF of petal_length for various types of flowers.\n",
        "\n",
        "# Misclassification error if you use petal_length only.\n",
        "\n",
        "counts, bin_edges = np.histogram(iris_setosa['petal_length'], bins=10, \n",
        "                                 density = True)\n",
        "pdf = counts/(sum(counts))\n",
        "print(pdf);\n",
        "print(bin_edges)\n",
        "cdf = np.cumsum(pdf)\n",
        "plt.plot(bin_edges[1:],pdf)\n",
        "plt.plot(bin_edges[1:], cdf)\n",
        "\n",
        "\n",
        "# virginica\n",
        "counts, bin_edges = np.histogram(iris_virginica['petal_length'], bins=10, \n",
        "                                 density = True)\n",
        "pdf = counts/(sum(counts))\n",
        "print(pdf);\n",
        "print(bin_edges)\n",
        "cdf = np.cumsum(pdf)\n",
        "plt.plot(bin_edges[1:],pdf)\n",
        "plt.plot(bin_edges[1:], cdf)\n",
        "\n",
        "\n",
        "#versicolor\n",
        "counts, bin_edges = np.histogram(iris_versicolor['petal_length'], bins=10, \n",
        "                                 density = True)\n",
        "pdf = counts/(sum(counts))\n",
        "print(pdf);\n",
        "print(bin_edges)\n",
        "cdf = np.cumsum(pdf)\n",
        "plt.plot(bin_edges[1:],pdf)\n",
        "plt.plot(bin_edges[1:], cdf)\n",
        "\n",
        "\n",
        "plt.show();"
      ],
      "execution_count": null,
      "outputs": []
    },
    {
      "cell_type": "markdown",
      "metadata": {
        "id": "1JykhrwO7eUz"
      },
      "source": [
        "# (3.5) Mean, Variance and Std-dev"
      ]
    },
    {
      "cell_type": "code",
      "metadata": {
        "id": "7rhG9mB17eU0"
      },
      "source": [
        "#Mean, Variance, Std-deviation,  \n",
        "print(\"Means:\")\n",
        "print(np.mean(iris_setosa[\"petal_length\"]))\n",
        "#Mean with an outlier.\n",
        "print(np.mean(np.append(iris_setosa[\"petal_length\"],50)));\n",
        "print(np.mean(iris_virginica[\"petal_length\"]))\n",
        "print(np.mean(iris_versicolor[\"petal_length\"]))\n",
        "\n",
        "print(\"\\nStd-dev:\");\n",
        "print(np.std(iris_setosa[\"petal_length\"]))\n",
        "print(np.std(iris_virginica[\"petal_length\"]))\n",
        "print(np.std(iris_versicolor[\"petal_length\"]))\n",
        "\n",
        "\n",
        "\n"
      ],
      "execution_count": null,
      "outputs": []
    },
    {
      "cell_type": "markdown",
      "metadata": {
        "id": "abmP92Sn7eU4"
      },
      "source": [
        "# (3.6) Median, Percentile, Quantile, IQR, MAD"
      ]
    },
    {
      "cell_type": "code",
      "metadata": {
        "id": "cICgORTF7eU5"
      },
      "source": [
        "#Median, Quantiles, Percentiles, IQR.\n",
        "print(\"\\nMedians:\")\n",
        "print(np.median(iris_setosa[\"petal_length\"]))\n",
        "#Median with an outlier\n",
        "print(np.median(np.append(iris_setosa[\"petal_length\"],50)));\n",
        "print(np.median(iris_virginica[\"petal_length\"]))\n",
        "print(np.median(iris_versicolor[\"petal_length\"]))\n",
        "\n",
        "\n",
        "print(\"\\nQuantiles:\")\n",
        "print(np.percentile(iris_setosa[\"petal_length\"],np.arange(0, 100, 25)))\n",
        "print(np.percentile(iris_virginica[\"petal_length\"],np.arange(0, 100, 25)))\n",
        "print(np.percentile(iris_versicolor[\"petal_length\"], np.arange(0, 100, 25)))\n",
        "\n",
        "print(\"\\n90th Percentiles:\")\n",
        "print(np.percentile(iris_setosa[\"petal_length\"],90))\n",
        "print(np.percentile(iris_virginica[\"petal_length\"],90))\n",
        "print(np.percentile(iris_versicolor[\"petal_length\"], 90))\n",
        "\n",
        "from statsmodels import robust\n",
        "print (\"\\nMedian Absolute Deviation\")\n",
        "print(robust.mad(iris_setosa[\"petal_length\"]))\n",
        "print(robust.mad(iris_virginica[\"petal_length\"]))\n",
        "print(robust.mad(iris_versicolor[\"petal_length\"]))\n"
      ],
      "execution_count": null,
      "outputs": []
    },
    {
      "cell_type": "markdown",
      "metadata": {
        "id": "6OHiqoR-7eU9"
      },
      "source": [
        "# (3.7) Box plot and Whiskers"
      ]
    },
    {
      "cell_type": "code",
      "metadata": {
        "scrolled": true,
        "id": "s4ZG6dZw7eU_"
      },
      "source": [
        "\n",
        "#Box-plot with whiskers: another method of visualizing the  1-D scatter plot more intuitivey.\n",
        "# The Concept of median, percentile, quantile.\n",
        "# How to draw the box in the box-plot?\n",
        "# How to draw whiskers: [no standard way] Could use min and max or use other complex statistical techniques.\n",
        "# IQR like idea.\n",
        "\n",
        "#NOTE: IN the plot below, a technique call inter-quartile range is used in plotting the whiskers. \n",
        "#Whiskers in the plot below donot correposnd to the min and max values.\n",
        "\n",
        "#Box-plot can be visualized as a PDF on the side-ways.\n",
        "\n",
        "sns.boxplot(x='species',y='petal_length', data=iris)\n",
        "plt.show()"
      ],
      "execution_count": null,
      "outputs": []
    },
    {
      "cell_type": "markdown",
      "metadata": {
        "id": "3S8dI16V7eVC"
      },
      "source": [
        "# (3.8) Violin plots"
      ]
    },
    {
      "cell_type": "code",
      "metadata": {
        "id": "ha1SwMC47eVE"
      },
      "source": [
        "# A violin plot combines the benefits of the previous two plots \n",
        "#and simplifies them\n",
        "\n",
        "# Denser regions of the data are fatter, and sparser ones thinner \n",
        "#in a violin plot\n",
        "\n",
        "sns.violinplot(x=\"species\", y=\"petal_length\", data=iris, size=8)\n",
        "plt.show()"
      ],
      "execution_count": null,
      "outputs": []
    },
    {
      "cell_type": "markdown",
      "metadata": {
        "id": "axQROeiL7eVK"
      },
      "source": [
        "# (3.9) Summarizing plots in english\n",
        "* Exaplain your findings/conclusions in plain english\n",
        "* Never forget your objective (the probelm you are solving) . Perform all of your EDA aligned with your objectives.\n",
        "\n",
        "# (3.10) Univariate, bivariate and multivariate analysis."
      ]
    },
    {
      "cell_type": "code",
      "metadata": {
        "id": "M0TFvvkr7eVL"
      },
      "source": [
        "\n",
        "\n",
        "Def: Univariate, Bivariate and Multivariate analysis.\n"
      ],
      "execution_count": null,
      "outputs": []
    },
    {
      "cell_type": "markdown",
      "metadata": {
        "id": "k1TGpk-77eVP"
      },
      "source": [
        "# (3.11) Multivariate probability density, contour plot.\n"
      ]
    },
    {
      "cell_type": "code",
      "metadata": {
        "id": "C9HUB0R37eVQ"
      },
      "source": [
        "#2D Density plot, contors-plot\n",
        "sns.jointplot(x=\"petal_length\", y=\"petal_width\", data=iris_setosa, kind=\"kde\");\n",
        "plt.show();\n"
      ],
      "execution_count": null,
      "outputs": []
    },
    {
      "cell_type": "markdown",
      "metadata": {
        "id": "64iyVP9u7eVU"
      },
      "source": [
        "# (3.12) Exercise:\n",
        "\n",
        "1. Download Haberman Cancer Survival dataset from Kaggle. You may have to create a Kaggle account to donwload data. (https://www.kaggle.com/gilsousa/habermans-survival-data-set)\n",
        "2. Perform a similar alanlaysis as above on this dataset with the following sections:\n",
        "* High level statistics of the dataset: number of points, numer of   features, number of classes, data-points per class.\n",
        "* Explain our objective. \n",
        "* Perform Univaraite analysis(PDF, CDF, Boxplot, Voilin plots) to understand which features are useful towards classification.\n",
        "* Perform Bi-variate analysis (scatter plots, pair-plots) to see if combinations of features are useful in classfication.\n",
        "* Write your observations in english as crisply and unambigously as possible. Always quantify your results."
      ]
    },
    {
      "cell_type": "code",
      "metadata": {
        "id": "B1ttMbq67eVU"
      },
      "source": [
        "iris_virginica_SW = iris_virginica.iloc[:,1]\n",
        "iris_versicolor_SW = iris_versicolor.iloc[:,1]\n",
        "\n"
      ],
      "execution_count": null,
      "outputs": []
    },
    {
      "cell_type": "code",
      "metadata": {
        "id": "bRfRxR0X7eVX"
      },
      "source": [
        "from scipy import stats\n",
        "stats.ks_2samp(iris_virginica_SW, iris_versicolor_SW)\n"
      ],
      "execution_count": null,
      "outputs": []
    },
    {
      "cell_type": "code",
      "metadata": {
        "id": "g0mtgBgD7eVa"
      },
      "source": [
        "x = stats.norm.rvs(loc=0.2, size=10)\n",
        "stats.kstest(x,'norm')\n"
      ],
      "execution_count": null,
      "outputs": []
    },
    {
      "cell_type": "code",
      "metadata": {
        "id": "KYFI7qk-7eVd"
      },
      "source": [
        "x = stats.norm.rvs(loc=0.2, size=100)\n",
        "stats.kstest(x,'norm')\n"
      ],
      "execution_count": null,
      "outputs": []
    },
    {
      "cell_type": "code",
      "metadata": {
        "id": "CVMtqP_h7eVh"
      },
      "source": [
        "x = stats.norm.rvs(loc=0.2, size=1000)\n",
        "stats.kstest(x,'norm')\n"
      ],
      "execution_count": null,
      "outputs": []
    },
    {
      "cell_type": "code",
      "metadata": {
        "id": "Sy-AO9SZ7eVj"
      },
      "source": [
        ""
      ],
      "execution_count": null,
      "outputs": []
    }
  ]
}